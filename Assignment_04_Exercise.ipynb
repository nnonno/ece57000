{
  "nbformat": 4,
  "nbformat_minor": 0,
  "metadata": {
    "accelerator": "GPU",
    "colab": {
      "name": "Assignment_04_Exercise.ipynb",
      "provenance": [],
      "collapsed_sections": []
    },
    "kernelspec": {
      "display_name": "Python 3",
      "language": "python",
      "name": "python3"
    },
    "language_info": {
      "codemirror_mode": {
        "name": "ipython",
        "version": 3
      },
      "file_extension": ".py",
      "mimetype": "text/x-python",
      "name": "python",
      "nbconvert_exporter": "python",
      "pygments_lexer": "ipython3",
      "version": "3.8.8"
    },
    "widgets": {
      "application/vnd.jupyter.widget-state+json": {
        "6c6be33f2d1d469e943913224f2d5950": {
          "model_module": "@jupyter-widgets/controls",
          "model_name": "HBoxModel",
          "model_module_version": "1.5.0",
          "state": {
            "_view_name": "HBoxView",
            "_dom_classes": [],
            "_model_name": "HBoxModel",
            "_view_module": "@jupyter-widgets/controls",
            "_model_module_version": "1.5.0",
            "_view_count": null,
            "_view_module_version": "1.5.0",
            "box_style": "",
            "layout": "IPY_MODEL_4456ebc812064a2698b2c2320ea22edf",
            "_model_module": "@jupyter-widgets/controls",
            "children": [
              "IPY_MODEL_205dc1be0ec94a9cb9f6bb504c4bd783",
              "IPY_MODEL_99f45e990d71467eb646988b69db2117",
              "IPY_MODEL_3b7f82ec599b4f25a7fabd205d1148a1"
            ]
          }
        },
        "4456ebc812064a2698b2c2320ea22edf": {
          "model_module": "@jupyter-widgets/base",
          "model_name": "LayoutModel",
          "model_module_version": "1.2.0",
          "state": {
            "_view_name": "LayoutView",
            "grid_template_rows": null,
            "right": null,
            "justify_content": null,
            "_view_module": "@jupyter-widgets/base",
            "overflow": null,
            "_model_module_version": "1.2.0",
            "_view_count": null,
            "flex_flow": null,
            "width": null,
            "min_width": null,
            "border": null,
            "align_items": null,
            "bottom": null,
            "_model_module": "@jupyter-widgets/base",
            "top": null,
            "grid_column": null,
            "overflow_y": null,
            "overflow_x": null,
            "grid_auto_flow": null,
            "grid_area": null,
            "grid_template_columns": null,
            "flex": null,
            "_model_name": "LayoutModel",
            "justify_items": null,
            "grid_row": null,
            "max_height": null,
            "align_content": null,
            "visibility": null,
            "align_self": null,
            "height": null,
            "min_height": null,
            "padding": null,
            "grid_auto_rows": null,
            "grid_gap": null,
            "max_width": null,
            "order": null,
            "_view_module_version": "1.2.0",
            "grid_template_areas": null,
            "object_position": null,
            "object_fit": null,
            "grid_auto_columns": null,
            "margin": null,
            "display": null,
            "left": null
          }
        },
        "205dc1be0ec94a9cb9f6bb504c4bd783": {
          "model_module": "@jupyter-widgets/controls",
          "model_name": "HTMLModel",
          "model_module_version": "1.5.0",
          "state": {
            "_view_name": "HTMLView",
            "style": "IPY_MODEL_ed5606530c2c4f29aac854da3eb0d906",
            "_dom_classes": [],
            "description": "",
            "_model_name": "HTMLModel",
            "placeholder": "​",
            "_view_module": "@jupyter-widgets/controls",
            "_model_module_version": "1.5.0",
            "value": "100%",
            "_view_count": null,
            "_view_module_version": "1.5.0",
            "description_tooltip": null,
            "_model_module": "@jupyter-widgets/controls",
            "layout": "IPY_MODEL_3e6e83e697d241d2a1534710b3401a0a"
          }
        },
        "99f45e990d71467eb646988b69db2117": {
          "model_module": "@jupyter-widgets/controls",
          "model_name": "FloatProgressModel",
          "model_module_version": "1.5.0",
          "state": {
            "_view_name": "ProgressView",
            "style": "IPY_MODEL_ccf1c5c8814c46f0bee7b3176c032878",
            "_dom_classes": [],
            "description": "",
            "_model_name": "FloatProgressModel",
            "bar_style": "success",
            "max": 46830571,
            "_view_module": "@jupyter-widgets/controls",
            "_model_module_version": "1.5.0",
            "value": 46830571,
            "_view_count": null,
            "_view_module_version": "1.5.0",
            "orientation": "horizontal",
            "min": 0,
            "description_tooltip": null,
            "_model_module": "@jupyter-widgets/controls",
            "layout": "IPY_MODEL_80255b481d3545b590ed5bb9faa00d0c"
          }
        },
        "3b7f82ec599b4f25a7fabd205d1148a1": {
          "model_module": "@jupyter-widgets/controls",
          "model_name": "HTMLModel",
          "model_module_version": "1.5.0",
          "state": {
            "_view_name": "HTMLView",
            "style": "IPY_MODEL_8796f95dffec479489e1436e36056a13",
            "_dom_classes": [],
            "description": "",
            "_model_name": "HTMLModel",
            "placeholder": "​",
            "_view_module": "@jupyter-widgets/controls",
            "_model_module_version": "1.5.0",
            "value": " 44.7M/44.7M [00:01&lt;00:00, 36.1MB/s]",
            "_view_count": null,
            "_view_module_version": "1.5.0",
            "description_tooltip": null,
            "_model_module": "@jupyter-widgets/controls",
            "layout": "IPY_MODEL_a7d98f2c8e6d4b7bbeff0721f7f74bca"
          }
        },
        "ed5606530c2c4f29aac854da3eb0d906": {
          "model_module": "@jupyter-widgets/controls",
          "model_name": "DescriptionStyleModel",
          "model_module_version": "1.5.0",
          "state": {
            "_view_name": "StyleView",
            "_model_name": "DescriptionStyleModel",
            "description_width": "",
            "_view_module": "@jupyter-widgets/base",
            "_model_module_version": "1.5.0",
            "_view_count": null,
            "_view_module_version": "1.2.0",
            "_model_module": "@jupyter-widgets/controls"
          }
        },
        "3e6e83e697d241d2a1534710b3401a0a": {
          "model_module": "@jupyter-widgets/base",
          "model_name": "LayoutModel",
          "model_module_version": "1.2.0",
          "state": {
            "_view_name": "LayoutView",
            "grid_template_rows": null,
            "right": null,
            "justify_content": null,
            "_view_module": "@jupyter-widgets/base",
            "overflow": null,
            "_model_module_version": "1.2.0",
            "_view_count": null,
            "flex_flow": null,
            "width": null,
            "min_width": null,
            "border": null,
            "align_items": null,
            "bottom": null,
            "_model_module": "@jupyter-widgets/base",
            "top": null,
            "grid_column": null,
            "overflow_y": null,
            "overflow_x": null,
            "grid_auto_flow": null,
            "grid_area": null,
            "grid_template_columns": null,
            "flex": null,
            "_model_name": "LayoutModel",
            "justify_items": null,
            "grid_row": null,
            "max_height": null,
            "align_content": null,
            "visibility": null,
            "align_self": null,
            "height": null,
            "min_height": null,
            "padding": null,
            "grid_auto_rows": null,
            "grid_gap": null,
            "max_width": null,
            "order": null,
            "_view_module_version": "1.2.0",
            "grid_template_areas": null,
            "object_position": null,
            "object_fit": null,
            "grid_auto_columns": null,
            "margin": null,
            "display": null,
            "left": null
          }
        },
        "ccf1c5c8814c46f0bee7b3176c032878": {
          "model_module": "@jupyter-widgets/controls",
          "model_name": "ProgressStyleModel",
          "model_module_version": "1.5.0",
          "state": {
            "_view_name": "StyleView",
            "_model_name": "ProgressStyleModel",
            "description_width": "",
            "_view_module": "@jupyter-widgets/base",
            "_model_module_version": "1.5.0",
            "_view_count": null,
            "_view_module_version": "1.2.0",
            "bar_color": null,
            "_model_module": "@jupyter-widgets/controls"
          }
        },
        "80255b481d3545b590ed5bb9faa00d0c": {
          "model_module": "@jupyter-widgets/base",
          "model_name": "LayoutModel",
          "model_module_version": "1.2.0",
          "state": {
            "_view_name": "LayoutView",
            "grid_template_rows": null,
            "right": null,
            "justify_content": null,
            "_view_module": "@jupyter-widgets/base",
            "overflow": null,
            "_model_module_version": "1.2.0",
            "_view_count": null,
            "flex_flow": null,
            "width": null,
            "min_width": null,
            "border": null,
            "align_items": null,
            "bottom": null,
            "_model_module": "@jupyter-widgets/base",
            "top": null,
            "grid_column": null,
            "overflow_y": null,
            "overflow_x": null,
            "grid_auto_flow": null,
            "grid_area": null,
            "grid_template_columns": null,
            "flex": null,
            "_model_name": "LayoutModel",
            "justify_items": null,
            "grid_row": null,
            "max_height": null,
            "align_content": null,
            "visibility": null,
            "align_self": null,
            "height": null,
            "min_height": null,
            "padding": null,
            "grid_auto_rows": null,
            "grid_gap": null,
            "max_width": null,
            "order": null,
            "_view_module_version": "1.2.0",
            "grid_template_areas": null,
            "object_position": null,
            "object_fit": null,
            "grid_auto_columns": null,
            "margin": null,
            "display": null,
            "left": null
          }
        },
        "8796f95dffec479489e1436e36056a13": {
          "model_module": "@jupyter-widgets/controls",
          "model_name": "DescriptionStyleModel",
          "model_module_version": "1.5.0",
          "state": {
            "_view_name": "StyleView",
            "_model_name": "DescriptionStyleModel",
            "description_width": "",
            "_view_module": "@jupyter-widgets/base",
            "_model_module_version": "1.5.0",
            "_view_count": null,
            "_view_module_version": "1.2.0",
            "_model_module": "@jupyter-widgets/controls"
          }
        },
        "a7d98f2c8e6d4b7bbeff0721f7f74bca": {
          "model_module": "@jupyter-widgets/base",
          "model_name": "LayoutModel",
          "model_module_version": "1.2.0",
          "state": {
            "_view_name": "LayoutView",
            "grid_template_rows": null,
            "right": null,
            "justify_content": null,
            "_view_module": "@jupyter-widgets/base",
            "overflow": null,
            "_model_module_version": "1.2.0",
            "_view_count": null,
            "flex_flow": null,
            "width": null,
            "min_width": null,
            "border": null,
            "align_items": null,
            "bottom": null,
            "_model_module": "@jupyter-widgets/base",
            "top": null,
            "grid_column": null,
            "overflow_y": null,
            "overflow_x": null,
            "grid_auto_flow": null,
            "grid_area": null,
            "grid_template_columns": null,
            "flex": null,
            "_model_name": "LayoutModel",
            "justify_items": null,
            "grid_row": null,
            "max_height": null,
            "align_content": null,
            "visibility": null,
            "align_self": null,
            "height": null,
            "min_height": null,
            "padding": null,
            "grid_auto_rows": null,
            "grid_gap": null,
            "max_width": null,
            "order": null,
            "_view_module_version": "1.2.0",
            "grid_template_areas": null,
            "object_position": null,
            "object_fit": null,
            "grid_auto_columns": null,
            "margin": null,
            "display": null,
            "left": null
          }
        },
        "70c9748df6ec443b9b624193f407d728": {
          "model_module": "@jupyter-widgets/controls",
          "model_name": "HBoxModel",
          "model_module_version": "1.5.0",
          "state": {
            "_view_name": "HBoxView",
            "_dom_classes": [],
            "_model_name": "HBoxModel",
            "_view_module": "@jupyter-widgets/controls",
            "_model_module_version": "1.5.0",
            "_view_count": null,
            "_view_module_version": "1.5.0",
            "box_style": "",
            "layout": "IPY_MODEL_6a7d2b6d20f2472abf206389c2cec947",
            "_model_module": "@jupyter-widgets/controls",
            "children": [
              "IPY_MODEL_865a2242384645079dc737420888afc1",
              "IPY_MODEL_daf180fe2c6b473faeb76f26f78929c0",
              "IPY_MODEL_b6e8cdf9836549bd8bfd9d260075da0c"
            ]
          }
        },
        "6a7d2b6d20f2472abf206389c2cec947": {
          "model_module": "@jupyter-widgets/base",
          "model_name": "LayoutModel",
          "model_module_version": "1.2.0",
          "state": {
            "_view_name": "LayoutView",
            "grid_template_rows": null,
            "right": null,
            "justify_content": null,
            "_view_module": "@jupyter-widgets/base",
            "overflow": null,
            "_model_module_version": "1.2.0",
            "_view_count": null,
            "flex_flow": null,
            "width": null,
            "min_width": null,
            "border": null,
            "align_items": null,
            "bottom": null,
            "_model_module": "@jupyter-widgets/base",
            "top": null,
            "grid_column": null,
            "overflow_y": null,
            "overflow_x": null,
            "grid_auto_flow": null,
            "grid_area": null,
            "grid_template_columns": null,
            "flex": null,
            "_model_name": "LayoutModel",
            "justify_items": null,
            "grid_row": null,
            "max_height": null,
            "align_content": null,
            "visibility": null,
            "align_self": null,
            "height": null,
            "min_height": null,
            "padding": null,
            "grid_auto_rows": null,
            "grid_gap": null,
            "max_width": null,
            "order": null,
            "_view_module_version": "1.2.0",
            "grid_template_areas": null,
            "object_position": null,
            "object_fit": null,
            "grid_auto_columns": null,
            "margin": null,
            "display": null,
            "left": null
          }
        },
        "865a2242384645079dc737420888afc1": {
          "model_module": "@jupyter-widgets/controls",
          "model_name": "HTMLModel",
          "model_module_version": "1.5.0",
          "state": {
            "_view_name": "HTMLView",
            "style": "IPY_MODEL_32ef074901d646d984f76f1ac9216844",
            "_dom_classes": [],
            "description": "",
            "_model_name": "HTMLModel",
            "placeholder": "​",
            "_view_module": "@jupyter-widgets/controls",
            "_model_module_version": "1.5.0",
            "value": "",
            "_view_count": null,
            "_view_module_version": "1.5.0",
            "description_tooltip": null,
            "_model_module": "@jupyter-widgets/controls",
            "layout": "IPY_MODEL_10b8f8f5a6f043e2814c0ec2e017b16a"
          }
        },
        "daf180fe2c6b473faeb76f26f78929c0": {
          "model_module": "@jupyter-widgets/controls",
          "model_name": "FloatProgressModel",
          "model_module_version": "1.5.0",
          "state": {
            "_view_name": "ProgressView",
            "style": "IPY_MODEL_04259f2a579b42e3b1e337d520208aa3",
            "_dom_classes": [],
            "description": "",
            "_model_name": "FloatProgressModel",
            "bar_style": "success",
            "max": 170498071,
            "_view_module": "@jupyter-widgets/controls",
            "_model_module_version": "1.5.0",
            "value": 170498071,
            "_view_count": null,
            "_view_module_version": "1.5.0",
            "orientation": "horizontal",
            "min": 0,
            "description_tooltip": null,
            "_model_module": "@jupyter-widgets/controls",
            "layout": "IPY_MODEL_49928a55be0e4f8d84ec862554bfd394"
          }
        },
        "b6e8cdf9836549bd8bfd9d260075da0c": {
          "model_module": "@jupyter-widgets/controls",
          "model_name": "HTMLModel",
          "model_module_version": "1.5.0",
          "state": {
            "_view_name": "HTMLView",
            "style": "IPY_MODEL_1ef0ceb324274ade87158170654c4da7",
            "_dom_classes": [],
            "description": "",
            "_model_name": "HTMLModel",
            "placeholder": "​",
            "_view_module": "@jupyter-widgets/controls",
            "_model_module_version": "1.5.0",
            "value": " 170499072/? [00:03&lt;00:00, 55702031.28it/s]",
            "_view_count": null,
            "_view_module_version": "1.5.0",
            "description_tooltip": null,
            "_model_module": "@jupyter-widgets/controls",
            "layout": "IPY_MODEL_2731675606ea4ab383c88bdd9c6680f7"
          }
        },
        "32ef074901d646d984f76f1ac9216844": {
          "model_module": "@jupyter-widgets/controls",
          "model_name": "DescriptionStyleModel",
          "model_module_version": "1.5.0",
          "state": {
            "_view_name": "StyleView",
            "_model_name": "DescriptionStyleModel",
            "description_width": "",
            "_view_module": "@jupyter-widgets/base",
            "_model_module_version": "1.5.0",
            "_view_count": null,
            "_view_module_version": "1.2.0",
            "_model_module": "@jupyter-widgets/controls"
          }
        },
        "10b8f8f5a6f043e2814c0ec2e017b16a": {
          "model_module": "@jupyter-widgets/base",
          "model_name": "LayoutModel",
          "model_module_version": "1.2.0",
          "state": {
            "_view_name": "LayoutView",
            "grid_template_rows": null,
            "right": null,
            "justify_content": null,
            "_view_module": "@jupyter-widgets/base",
            "overflow": null,
            "_model_module_version": "1.2.0",
            "_view_count": null,
            "flex_flow": null,
            "width": null,
            "min_width": null,
            "border": null,
            "align_items": null,
            "bottom": null,
            "_model_module": "@jupyter-widgets/base",
            "top": null,
            "grid_column": null,
            "overflow_y": null,
            "overflow_x": null,
            "grid_auto_flow": null,
            "grid_area": null,
            "grid_template_columns": null,
            "flex": null,
            "_model_name": "LayoutModel",
            "justify_items": null,
            "grid_row": null,
            "max_height": null,
            "align_content": null,
            "visibility": null,
            "align_self": null,
            "height": null,
            "min_height": null,
            "padding": null,
            "grid_auto_rows": null,
            "grid_gap": null,
            "max_width": null,
            "order": null,
            "_view_module_version": "1.2.0",
            "grid_template_areas": null,
            "object_position": null,
            "object_fit": null,
            "grid_auto_columns": null,
            "margin": null,
            "display": null,
            "left": null
          }
        },
        "04259f2a579b42e3b1e337d520208aa3": {
          "model_module": "@jupyter-widgets/controls",
          "model_name": "ProgressStyleModel",
          "model_module_version": "1.5.0",
          "state": {
            "_view_name": "StyleView",
            "_model_name": "ProgressStyleModel",
            "description_width": "",
            "_view_module": "@jupyter-widgets/base",
            "_model_module_version": "1.5.0",
            "_view_count": null,
            "_view_module_version": "1.2.0",
            "bar_color": null,
            "_model_module": "@jupyter-widgets/controls"
          }
        },
        "49928a55be0e4f8d84ec862554bfd394": {
          "model_module": "@jupyter-widgets/base",
          "model_name": "LayoutModel",
          "model_module_version": "1.2.0",
          "state": {
            "_view_name": "LayoutView",
            "grid_template_rows": null,
            "right": null,
            "justify_content": null,
            "_view_module": "@jupyter-widgets/base",
            "overflow": null,
            "_model_module_version": "1.2.0",
            "_view_count": null,
            "flex_flow": null,
            "width": null,
            "min_width": null,
            "border": null,
            "align_items": null,
            "bottom": null,
            "_model_module": "@jupyter-widgets/base",
            "top": null,
            "grid_column": null,
            "overflow_y": null,
            "overflow_x": null,
            "grid_auto_flow": null,
            "grid_area": null,
            "grid_template_columns": null,
            "flex": null,
            "_model_name": "LayoutModel",
            "justify_items": null,
            "grid_row": null,
            "max_height": null,
            "align_content": null,
            "visibility": null,
            "align_self": null,
            "height": null,
            "min_height": null,
            "padding": null,
            "grid_auto_rows": null,
            "grid_gap": null,
            "max_width": null,
            "order": null,
            "_view_module_version": "1.2.0",
            "grid_template_areas": null,
            "object_position": null,
            "object_fit": null,
            "grid_auto_columns": null,
            "margin": null,
            "display": null,
            "left": null
          }
        },
        "1ef0ceb324274ade87158170654c4da7": {
          "model_module": "@jupyter-widgets/controls",
          "model_name": "DescriptionStyleModel",
          "model_module_version": "1.5.0",
          "state": {
            "_view_name": "StyleView",
            "_model_name": "DescriptionStyleModel",
            "description_width": "",
            "_view_module": "@jupyter-widgets/base",
            "_model_module_version": "1.5.0",
            "_view_count": null,
            "_view_module_version": "1.2.0",
            "_model_module": "@jupyter-widgets/controls"
          }
        },
        "2731675606ea4ab383c88bdd9c6680f7": {
          "model_module": "@jupyter-widgets/base",
          "model_name": "LayoutModel",
          "model_module_version": "1.2.0",
          "state": {
            "_view_name": "LayoutView",
            "grid_template_rows": null,
            "right": null,
            "justify_content": null,
            "_view_module": "@jupyter-widgets/base",
            "overflow": null,
            "_model_module_version": "1.2.0",
            "_view_count": null,
            "flex_flow": null,
            "width": null,
            "min_width": null,
            "border": null,
            "align_items": null,
            "bottom": null,
            "_model_module": "@jupyter-widgets/base",
            "top": null,
            "grid_column": null,
            "overflow_y": null,
            "overflow_x": null,
            "grid_auto_flow": null,
            "grid_area": null,
            "grid_template_columns": null,
            "flex": null,
            "_model_name": "LayoutModel",
            "justify_items": null,
            "grid_row": null,
            "max_height": null,
            "align_content": null,
            "visibility": null,
            "align_self": null,
            "height": null,
            "min_height": null,
            "padding": null,
            "grid_auto_rows": null,
            "grid_gap": null,
            "max_width": null,
            "order": null,
            "_view_module_version": "1.2.0",
            "grid_template_areas": null,
            "object_position": null,
            "object_fit": null,
            "grid_auto_columns": null,
            "margin": null,
            "display": null,
            "left": null
          }
        }
      }
    }
  },
  "cells": [
    {
      "cell_type": "markdown",
      "metadata": {
        "id": "zmwWs4S9cRIn"
      },
      "source": [
        "# ECE 57000 Assignment 4 Exercise\n",
        "\n",
        "Your Name:"
      ]
    },
    {
      "cell_type": "markdown",
      "metadata": {
        "id": "Vmlsa88cqmib"
      },
      "source": [
        "## Exercise 0: Train your model on GPU (0 points)"
      ]
    },
    {
      "cell_type": "code",
      "metadata": {
        "id": "wCma9OSzD0OQ"
      },
      "source": [
        ""
      ],
      "execution_count": null,
      "outputs": []
    },
    {
      "cell_type": "markdown",
      "metadata": {
        "id": "WfirXJR3qvB0"
      },
      "source": [
        "For some tasks in this assignment, it can take a long time if you run it on CPU. For example, based on our test on Exercise 3 Task 4, it will take roughly 2 hours to train the full model for 1 epoch on CPU. Hence, we highly recommend you try to train your model on GPU.\n",
        "\n",
        "To do so, first you need to enable GPU on Colab (this will restart the runtime). Click `Runtime`-> `Change runtime type` and select the `Hardware accelerator` there.  You can then run the following code to see if the GPU is correctly initialized and available.\n",
        "\n"
      ]
    },
    {
      "cell_type": "code",
      "metadata": {
        "colab": {
          "base_uri": "https://localhost:8080/"
        },
        "id": "TT7wKvilvBvX",
        "outputId": "ea944430-0958-4d7d-b3be-3a1ffa6cf33c"
      },
      "source": [
        "import torch\n",
        "print(f'Can I can use GPU now? -- {torch.cuda.is_available()}')"
      ],
      "execution_count": 1,
      "outputs": [
        {
          "output_type": "stream",
          "name": "stdout",
          "text": [
            "Can I can use GPU now? -- True\n"
          ]
        }
      ]
    },
    {
      "cell_type": "markdown",
      "metadata": {
        "id": "hnPPDoA7vQWp"
      },
      "source": [
        "### You must manually move your model and data to the GPU (and sometimes back to the cpu)\n",
        "After setting the GPU up on colab, then you should put your **model** and **data** to GPU. We give a simple example below. You can use `to` function for this task. See [torch.Tensor.to](https://pytorch.org/docs/stable/generated/torch.Tensor.to.html) to move a tensor to the GPU (probably your mini-batch of data in each iteration) or [torch.nn.Module.to](https://pytorch.org/docs/stable/generated/torch.nn.Module.html#torch.nn.Module.to) to move your NN model to GPU (assuming you create subclass [torch.nn.Module](https://pytorch.org/docs/stable/generated/torch.nn.Module.html)). Note that `to()` of tensor returns a NEW tensor while `to` of a NN model will apply this in-place. To be safe, the best semantics are `obj = obj.to(device)`. For printing, you will need to move a tensor back to the CPU via the `cpu()` function.\n",
        "\n",
        "Once the model and input data are on the GPU, everything else can be done the same.  This is the beauty of PyTorch GPU acceleration.  None of the other code needs to be altered.\n",
        "\n",
        "To summarize, you need to 1) enable GPU acceleration in Colab, 2) put the model on the GPU, and 3) put the input data (i.e., the batch of samples) onto the GPU using `to()` after it is loaded by the data loaders (usually you only put one batch of data on the GPU at a time)."
      ]
    },
    {
      "cell_type": "code",
      "metadata": {
        "colab": {
          "base_uri": "https://localhost:8080/"
        },
        "id": "lUdR8v7Kt-6S",
        "outputId": "1857f62b-d348-4a54-935e-548e3e62060f"
      },
      "source": [
        "import torch.nn as nn\n",
        "rand_tensor = torch.rand(5,2)\n",
        "simple_model = nn.Sequential(nn.Linear(2,10), nn.ReLU(), nn.Linear(10,1))\n",
        "print(f'input is on {rand_tensor.device}')\n",
        "print(f'model parameters are on {[param.device for param in simple_model.parameters()]}')\n",
        "print(f'output is on {simple_model(rand_tensor).device}')\n",
        "\n",
        "device = torch.device('cuda')\n",
        "# ----------- <Your code> ---------------\n",
        "# Move rand_tensor and model onto the GPU device\n",
        "rand_tensor=rand_tensor.to(device)\n",
        "simple_model.to(device)\n",
        "\n",
        "# --------- <End your code> -------------\n",
        "print(f'input is on {rand_tensor.device}')\n",
        "print(f'model parameters are on {[param.device for param in simple_model.parameters()]}')\n",
        "print(f'output is on {simple_model(rand_tensor).device}')"
      ],
      "execution_count": 2,
      "outputs": [
        {
          "output_type": "stream",
          "name": "stdout",
          "text": [
            "input is on cpu\n",
            "model parameters are on [device(type='cpu'), device(type='cpu'), device(type='cpu'), device(type='cpu')]\n",
            "output is on cpu\n",
            "input is on cuda:0\n",
            "model parameters are on [device(type='cuda', index=0), device(type='cuda', index=0), device(type='cuda', index=0), device(type='cuda', index=0)]\n",
            "output is on cuda:0\n"
          ]
        }
      ]
    },
    {
      "cell_type": "markdown",
      "metadata": {
        "id": "Zz2T0QYYpwVR"
      },
      "source": [
        "## Exercise 1: Why use a CNN rather than only fully connected layers? (30 points)\n",
        "\n",
        "In this exercise, you will build two models for the **MNIST** dataset: one uses only fully connected layers and another uses a standard CNN layout (convolution layers everywhere except the last layer is fully connected layer). The two models should be built with roughly the same accuracy performance, your task is to compare the number of network parameters (a huge number of parameters can affect training/testing time, memory requirements, overfitting, etc.)."
      ]
    },
    {
      "cell_type": "markdown",
      "metadata": {
        "id": "DFKqew7r-E-q"
      },
      "source": [
        "### Task 1: Following the structure used in the instructions, you should create\n",
        "\n",
        "*   One network named **OurFC** which should consist with only fully connected layers\n",
        "\n",
        "  *   You should decide how many layers and how many hidden dimensions you want in your network \n",
        "  *   Your final accuracy on the test dataset should lie roughly around 90% ($\\pm$2%)\n",
        "  *   There is no need to make the neural network unnecessarily complex, your total training time should no longer than 3 mins\n",
        "\n",
        "*   Another network named **OurCNN** which applys a standard CNN structure\n",
        "  *   Again, you should decide how many layers and how many channels you want for each layer.\n",
        "  *   Your final accuracy on the test dataset should lie roughly around 90% ($\\pm$2%)\n",
        "  *   A standard CNN structure can be composed as **[Conv2d, MaxPooling, ReLU] x num_conv_layers + FC x num_fc_layers**\n",
        "\n",
        "* Train and test your network on MNIST data as in the instructions\n",
        "* You are **required** to print out the loss in the training and loss+accuracy in the test as in the instructions."
      ]
    },
    {
      "cell_type": "code",
      "metadata": {
        "id": "t_wE33E1CXPW"
      },
      "source": [
        "# ----------- <Your code> ---------------\n",
        "import torch.nn.functional as F\n",
        "class OurFC(nn.Module):\n",
        "\n",
        "  def __init__(self):\n",
        "    super(OurFC, self).__init__()\n",
        "\n",
        "    self.fc1 = nn.Linear(784, 128)\n",
        "    self.relu = nn.ReLU()\n",
        "    self.fc2 = nn.Linear(128, 10)\n",
        "\n",
        "  def forward(self, x):\n",
        "    x = self.fc1(x.view(-1,784))\n",
        "    x = self.relu(x)\n",
        "    x = self.fc2(x)\n",
        "    return x\n",
        "\n",
        "class OurCNN(nn.Module):\n",
        "\n",
        "  def __init__(self):\n",
        "    super(OurCNN, self).__init__()\n",
        "\n",
        "    self.CNN = nn.Conv2d(1, 2, kernel_size=3, padding=\"same\") # 2x28x28\n",
        "    self.pool = nn.MaxPool2d(2) # 2x14x14\n",
        "    self.relu = nn.ReLU() \n",
        "    self.fc = nn.Linear(392, 10)\n",
        "\n",
        "  def forward(self, x):\n",
        "    x = self.CNN(x)\n",
        "    x = self.pool(x)\n",
        "    x = x.view(-1, 392)\n",
        "    x = self.relu(x)\n",
        "    x = self.fc(x)\n",
        "    return x\n",
        "\n",
        "def train(classifier, epoch):\n",
        "\n",
        "  classifier.train() # we need to set the mode for our model\n",
        "\n",
        "  for batch_idx, (images, targets) in enumerate(train_loader):\n",
        "\n",
        "    optimizer.zero_grad()\n",
        "    output = classifier(images.to(device))\n",
        "    loss = loss_fn(output, targets.to(device)) # Here is a typical loss function (negative log likelihood)\n",
        "    loss.backward()\n",
        "    optimizer.step()\n",
        "\n",
        "    if batch_idx % 10 == 0: # We record our output every 10 batches\n",
        "      train_losses.append(loss.item()) # item() is to get the value of the tensor directly\n",
        "      train_counter.append(\n",
        "        (batch_idx*64) + ((epoch-1)*len(train_loader.dataset)))\n",
        "    if batch_idx % 100 == 0: # We visulize our output every 10 batches\n",
        "      print(f'Epoch {epoch}: [{batch_idx*len(images)}/{len(train_loader.dataset)}] Loss: {loss.item()}')\n",
        "\n",
        "\n",
        "def test(classifier, epoch):\n",
        "\n",
        "  classifier.eval() # we need to set the mode for our model\n",
        "\n",
        "  test_loss = 0\n",
        "  correct = 0\n",
        "\n",
        "  with torch.no_grad():\n",
        "    for images, targets in test_loader:\n",
        "      output = classifier(images.to(device))\n",
        "      test_loss += loss_fn(output, targets.to(device)).sum().item()\n",
        "      pred = output.data.max(1, keepdim=True)[1] # we get the estimate of our result by look at the largest class value\n",
        "      correct += pred.eq(targets.to(device).data.view_as(pred)).sum() # sum up the corrected samples\n",
        "  \n",
        "  test_loss /= len(test_loader.dataset)\n",
        "  test_losses.append(test_loss)\n",
        "  test_counter.append(len(train_loader.dataset)*epoch)\n",
        "\n",
        "  print(f'Test result on epoch {epoch}: Avg loss is {test_loss}, Accuracy: {100.*correct/len(test_loader.dataset)}%')"
      ],
      "execution_count": 3,
      "outputs": []
    },
    {
      "cell_type": "code",
      "metadata": {
        "id": "FIVO5T4JgA_N",
        "colab": {
          "base_uri": "https://localhost:8080/"
        },
        "outputId": "0470427d-2f90-4f7c-a6b3-6294aa835202"
      },
      "source": [
        "import torchvision\n",
        "\n",
        "transform = torchvision.transforms.Compose([torchvision.transforms.ToTensor(),\n",
        "                      torchvision.transforms.Normalize((0.1307,),(0.3081,))])\n",
        "\n",
        "train_dataset = torchvision.datasets.MNIST('/data', train=True, download=True, transform=transform)\n",
        "test_dataset = torchvision.datasets.MNIST('/data', train=False, download=True, transform=transform)\n",
        "\n",
        "batch_size_train, batch_size_test = 200, 1000\n",
        "\n",
        "train_loader = torch.utils.data.DataLoader(train_dataset, batch_size=batch_size_train, shuffle=True)\n",
        "test_loader = torch.utils.data.DataLoader(test_dataset, batch_size=batch_size_test, shuffle=False)\n",
        "\n",
        "import torch.optim as optim\n",
        "\n",
        "classifier = OurFC().to(device)\n",
        "optimizer = optim.SGD(classifier.parameters(), lr=0.001, momentum=0.8)\n",
        "loss_fn = nn.CrossEntropyLoss()\n",
        "\n",
        "train_losses = []\n",
        "train_counter = []\n",
        "test_losses = []\n",
        "test_counter = []\n",
        "max_epoch = 3\n",
        "\n",
        "for epoch in range(1, max_epoch+1):\n",
        "  train(classifier, epoch)\n",
        "  test(classifier, epoch)\n",
        "\n",
        "classifier2 = OurCNN().to(device)\n",
        "optimizer = optim.SGD(classifier2.parameters(), lr=0.001, momentum=0.8)\n",
        "loss_fn = nn.CrossEntropyLoss()\n",
        "\n",
        "train_losses = []\n",
        "train_counter = []\n",
        "test_losses = []\n",
        "test_counter = []\n",
        "max_epoch = 3\n",
        "\n",
        "for epoch in range(1, max_epoch+1):\n",
        "  train(classifier2, epoch)\n",
        "  test(classifier2, epoch)"
      ],
      "execution_count": null,
      "outputs": [
        {
          "output_type": "stream",
          "name": "stdout",
          "text": [
            "Epoch 1: [0/60000] Loss: 2.34684419631958\n",
            "Epoch 1: [20000/60000] Loss: 1.5853430032730103\n",
            "Epoch 1: [40000/60000] Loss: 1.0943905115127563\n",
            "Test result on epoch 1: Avg loss is 0.0007507535994052887, Accuracy: 84.36000061035156%\n",
            "Epoch 2: [0/60000] Loss: 0.7435910701751709\n",
            "Epoch 2: [20000/60000] Loss: 0.5644620656967163\n",
            "Epoch 2: [40000/60000] Loss: 0.5621421337127686\n",
            "Test result on epoch 2: Avg loss is 0.0004892908960580826, Accuracy: 88.05999755859375%\n",
            "Epoch 3: [0/60000] Loss: 0.4432069659233093\n",
            "Epoch 3: [20000/60000] Loss: 0.5284782648086548\n",
            "Epoch 3: [40000/60000] Loss: 0.575587272644043\n",
            "Test result on epoch 3: Avg loss is 0.00040650634169578554, Accuracy: 89.37999725341797%\n",
            "Epoch 1: [0/60000] Loss: 2.443662643432617\n",
            "Epoch 1: [20000/60000] Loss: 1.3923701047897339\n",
            "Epoch 1: [40000/60000] Loss: 0.5982366800308228\n",
            "Test result on epoch 1: Avg loss is 0.00046525432169437406, Accuracy: 87.25%\n",
            "Epoch 2: [0/60000] Loss: 0.5371224880218506\n",
            "Epoch 2: [20000/60000] Loss: 0.4270678758621216\n",
            "Epoch 2: [40000/60000] Loss: 0.4157736301422119\n",
            "Test result on epoch 2: Avg loss is 0.00036708650290966034, Accuracy: 89.5999984741211%\n",
            "Epoch 3: [0/60000] Loss: 0.4054447412490845\n",
            "Epoch 3: [20000/60000] Loss: 0.532557487487793\n",
            "Epoch 3: [40000/60000] Loss: 0.4061005711555481\n",
            "Test result on epoch 3: Avg loss is 0.00033870560526847837, Accuracy: 90.29999542236328%\n"
          ]
        }
      ]
    },
    {
      "cell_type": "markdown",
      "metadata": {
        "id": "8fJY7m55fObt"
      },
      "source": [
        "### Task 2: Compare the number of parameters that are used in both your neural networks by printing out the total number of parameters for both of your networks."
      ]
    },
    {
      "cell_type": "markdown",
      "metadata": {
        "id": "JEVoEH2QLvv0"
      },
      "source": [
        "**Note:** You need to clearly show which number corresponds to which network."
      ]
    },
    {
      "cell_type": "code",
      "metadata": {
        "id": "JrjN1dr_f-lc",
        "colab": {
          "base_uri": "https://localhost:8080/"
        },
        "outputId": "5ccde4be-c01c-4939-82c3-f12d72809e86"
      },
      "source": [
        "# ----------- <Your code> ---------------\n",
        "print(f\"The number of parameters in fully connected neural network is {sum(p.numel() for p in classifier.parameters() if p.requires_grad)}\")\n",
        "print(f\"The number of parameters in convalutional neural network is {sum(p.numel() for p in classifier2.parameters() if p.requires_grad)}\")"
      ],
      "execution_count": null,
      "outputs": [
        {
          "output_type": "stream",
          "name": "stdout",
          "text": [
            "The number of parameters in fully connected neural network is 101770\n",
            "The number of parameters in convalutional neural network is 3950\n"
          ]
        }
      ]
    },
    {
      "cell_type": "markdown",
      "metadata": {
        "id": "v5oMKOrhmfpM"
      },
      "source": [
        "Questions (0 points, just for understanding): Which one has more parameters?  Which one is likely to have less computational cost when deployed? Which one took longer to train?"
      ]
    },
    {
      "cell_type": "markdown",
      "metadata": {
        "id": "290mOBEHgEXr"
      },
      "source": [
        "## Exercise 2: Train classifier on CIFAR-10 data. (30 points)\n",
        "Now, lets move our dataset to color images. CIFAR-10 dataset is another widely used dataset. Here all images have colors, i.e each image has 3 color channels instead of only one channel in MNIST. You need to pay more attention to the dimension of the data as it passes through the layers of your network."
      ]
    },
    {
      "cell_type": "markdown",
      "metadata": {
        "id": "IHClZywoGwWt"
      },
      "source": [
        "### Task 1: Create data loaders and plot images\n",
        "Set up a `train_loader` and `test_loader` for the CIFAR-10 data, and plot a figure:\n",
        "\n",
        "*   3 x 3 subplot\n",
        "*   each subplot is a randomly chosen image from the test dataset\n",
        "*   label each image with its label\n",
        "\n",
        "The corresponding names of the classes is given as \n",
        "`classes = ('plane', 'car', 'bird', 'cat', 'deer', 'dog', 'frog', 'horse', 'ship', 'truck')`\n",
        "\n",
        "Note: In your transforms, the normalizing constant is given as `transforms.Normalize((0.5, 0.5, 0.5), (0.5, 0.5, 0.5))])`"
      ]
    },
    {
      "cell_type": "code",
      "metadata": {
        "id": "oobbO_pGhYbs",
        "colab": {
          "base_uri": "https://localhost:8080/",
          "height": 751
        },
        "outputId": "b8db69a3-c5c9-46a0-b867-e1e98567ae5a"
      },
      "source": [
        "# ----------- <Your code> ---------------\n",
        "transform = torchvision.transforms.Compose([torchvision.transforms.ToTensor(),\n",
        "                      torchvision.transforms.Normalize((0.5, 0.5, 0.5), (0.5, 0.5, 0.5))])\n",
        "\n",
        "train_dataset = torchvision.datasets.CIFAR10('/data', train=True, download=True, transform=transform)\n",
        "test_dataset = torchvision.datasets.CIFAR10('/data', train=False, download=True, transform=transform)\n",
        "\n",
        "batch_size_train, batch_size_test = 200, 1000\n",
        "\n",
        "train_loader = torch.utils.data.DataLoader(train_dataset, batch_size=batch_size_train, shuffle=True)\n",
        "test_loader = torch.utils.data.DataLoader(test_dataset, batch_size=batch_size_test, shuffle=True)\n",
        "\n",
        "classes = ('plane', 'car', 'bird', 'cat', 'deer', 'dog', 'frog', 'horse', 'ship', 'truck')\n",
        "\n",
        "import matplotlib.pyplot as plt\n",
        "\n",
        "_, (images, targets) = next(enumerate(test_loader))\n",
        "fig, ax = plt.subplots(3,3)\n",
        "fig.set_size_inches(12,12)\n",
        "for i in range(3):\n",
        "  for j in range(3):\n",
        "    img = images[i*3+j] / 2 + 0.5 \n",
        "    ax[i,j].imshow(img.permute(1, 2, 0))\n",
        "    ax[i,j].set_title(f'{classes[targets[i*3+j]]}')\n",
        "\n",
        "fig.show()"
      ],
      "execution_count": null,
      "outputs": [
        {
          "output_type": "stream",
          "name": "stdout",
          "text": [
            "Files already downloaded and verified\n",
            "Files already downloaded and verified\n"
          ]
        },
        {
          "output_type": "display_data",
          "data": {
            "image/png": "[encoded data removed]",
            "text/plain": [
              "<Figure size 864x864 with 9 Axes>"
            ]
          },
          "metadata": {
            "needs_background": "light"
          }
        }
      ]
    },
    {
      "cell_type": "markdown",
      "metadata": {
        "id": "f0FMDyDzijEG"
      },
      "source": [
        "### Task 2: Create CNN and train it\n",
        "Set up a convolutional neural network and have your data trained on it. You have to decide all the details in your network, overall your neural network should meet the following standards:\n",
        "\n",
        "\n",
        "*   You should not use more than three convolutional layers and three fully connected layers\n",
        "*   Accuracy on the test dataset should be **above** 50%\n",
        "\n"
      ]
    },
    {
      "cell_type": "code",
      "metadata": {
        "id": "cRuEf8tAlnsP",
        "colab": {
          "base_uri": "https://localhost:8080/"
        },
        "outputId": "1470af67-1953-44ff-c704-213ea02a2f95"
      },
      "source": [
        "# ----------- <Your code> ---------------\n",
        "# You should have your test accuracy printed in the output box\n",
        "import torch.nn as nn\n",
        "import torch.nn.functional as F\n",
        "\n",
        "\n",
        "class CNNcifar(nn.Module):\n",
        "    def __init__(self):\n",
        "        super(CNNcifar,self).__init__()\n",
        "        self.conv1 = nn.Conv2d(3, 6, 5)\n",
        "        self.pool = nn.MaxPool2d(2, 2)\n",
        "        self.conv2 = nn.Conv2d(6, 16, 5)\n",
        "        self.fc1 = nn.Linear(16 * 5 * 5, 120)\n",
        "        self.fc2 = nn.Linear(120, 84)\n",
        "        self.fc3 = nn.Linear(84, 10)\n",
        "\n",
        "    def forward(self, x):\n",
        "        x = self.pool(F.relu(self.conv1(x)))\n",
        "        x = self.pool(F.relu(self.conv2(x)))\n",
        "        x = torch.flatten(x, 1) # flatten all dimensions except batch\n",
        "        x = F.relu(self.fc1(x))\n",
        "        x = F.relu(self.fc2(x))\n",
        "        x = self.fc3(x)\n",
        "        return x\n",
        "\n",
        "\n",
        "net = CNNcifar().to(device)\n",
        "\n",
        "import torch.optim as optim\n",
        "\n",
        "optimizer = optim.SGD(net.parameters(), lr=0.001, momentum=0.9)\n",
        "loss_fn = nn.CrossEntropyLoss()\n",
        "\n",
        "train_losses = []\n",
        "train_counter = []\n",
        "test_losses = []\n",
        "test_counter = []\n",
        "max_epoch = 50\n",
        "\n",
        "for epoch in range(1, max_epoch+1):\n",
        "  train(net, epoch)\n",
        "  test(net, epoch)"
      ],
      "execution_count": null,
      "outputs": [
        {
          "output_type": "stream",
          "name": "stdout",
          "text": [
            "Epoch 1: [0/50000] Loss: 2.298560857772827\n",
            "Epoch 1: [20000/50000] Loss: 2.3040571212768555\n",
            "Epoch 1: [40000/50000] Loss: 2.298715591430664\n",
            "Test result on epoch 1: Avg loss is 0.0023024892807006836, Accuracy: 10.460000038146973%\n",
            "Epoch 2: [0/50000] Loss: 2.3059513568878174\n",
            "Epoch 2: [20000/50000] Loss: 2.3030688762664795\n",
            "Epoch 2: [40000/50000] Loss: 2.2980804443359375\n",
            "Test result on epoch 2: Avg loss is 0.0023007736921310425, Accuracy: 11.619999885559082%\n",
            "Epoch 3: [0/50000] Loss: 2.3014402389526367\n",
            "Epoch 3: [20000/50000] Loss: 2.3000118732452393\n",
            "Epoch 3: [40000/50000] Loss: 2.2997007369995117\n",
            "Test result on epoch 3: Avg loss is 0.0022984649658203127, Accuracy: 11.34999942779541%\n",
            "Epoch 4: [0/50000] Loss: 2.2979304790496826\n",
            "Epoch 4: [20000/50000] Loss: 2.2972524166107178\n",
            "Epoch 4: [40000/50000] Loss: 2.2943031787872314\n",
            "Test result on epoch 4: Avg loss is 0.0022939460515975954, Accuracy: 14.75%\n",
            "Epoch 5: [0/50000] Loss: 2.2896595001220703\n",
            "Epoch 5: [20000/50000] Loss: 2.28877329826355\n",
            "Epoch 5: [40000/50000] Loss: 2.2841134071350098\n",
            "Test result on epoch 5: Avg loss is 0.0022803725481033324, Accuracy: 18.639999389648438%\n",
            "Epoch 6: [0/50000] Loss: 2.284830093383789\n",
            "Epoch 6: [20000/50000] Loss: 2.2663352489471436\n",
            "Epoch 6: [40000/50000] Loss: 2.2449533939361572\n",
            "Test result on epoch 6: Avg loss is 0.0022204185724258424, Accuracy: 19.600000381469727%\n",
            "Epoch 7: [0/50000] Loss: 2.2362287044525146\n",
            "Epoch 7: [20000/50000] Loss: 2.126767873764038\n",
            "Epoch 7: [40000/50000] Loss: 2.1675400733947754\n",
            "Test result on epoch 7: Avg loss is 0.0021158817291259766, Accuracy: 23.25%\n",
            "Epoch 8: [0/50000] Loss: 2.10925555229187\n",
            "Epoch 8: [20000/50000] Loss: 2.0685248374938965\n",
            "Epoch 8: [40000/50000] Loss: 2.054023265838623\n",
            "Test result on epoch 8: Avg loss is 0.002025590491294861, Accuracy: 28.0%\n",
            "Epoch 9: [0/50000] Loss: 2.0237386226654053\n",
            "Epoch 9: [20000/50000] Loss: 1.9265779256820679\n",
            "Epoch 9: [40000/50000] Loss: 2.0132038593292236\n",
            "Test result on epoch 9: Avg loss is 0.0019379329562187195, Accuracy: 30.170000076293945%\n",
            "Epoch 10: [0/50000] Loss: 2.0550408363342285\n",
            "Epoch 10: [20000/50000] Loss: 1.9356669187545776\n",
            "Epoch 10: [40000/50000] Loss: 1.8785481452941895\n",
            "Test result on epoch 10: Avg loss is 0.0018726489901542663, Accuracy: 32.47999954223633%\n",
            "Epoch 11: [0/50000] Loss: 1.9067438840866089\n",
            "Epoch 11: [20000/50000] Loss: 1.776848554611206\n",
            "Epoch 11: [40000/50000] Loss: 1.8135550022125244\n",
            "Test result on epoch 11: Avg loss is 0.0018080991744995117, Accuracy: 35.37999725341797%\n",
            "Epoch 12: [0/50000] Loss: 1.8518568277359009\n",
            "Epoch 12: [20000/50000] Loss: 1.766288161277771\n",
            "Epoch 12: [40000/50000] Loss: 1.7261642217636108\n",
            "Test result on epoch 12: Avg loss is 0.0017496180057525634, Accuracy: 36.779998779296875%\n",
            "Epoch 13: [0/50000] Loss: 1.674715280532837\n",
            "Epoch 13: [20000/50000] Loss: 1.7679020166397095\n",
            "Epoch 13: [40000/50000] Loss: 1.6723955869674683\n",
            "Test result on epoch 13: Avg loss is 0.0017083206176757813, Accuracy: 38.11000061035156%\n",
            "Epoch 14: [0/50000] Loss: 1.7267043590545654\n",
            "Epoch 14: [20000/50000] Loss: 1.645755648612976\n",
            "Epoch 14: [40000/50000] Loss: 1.737881064414978\n",
            "Test result on epoch 14: Avg loss is 0.0016730046391487121, Accuracy: 38.689998626708984%\n",
            "Epoch 15: [0/50000] Loss: 1.67952299118042\n",
            "Epoch 15: [20000/50000] Loss: 1.7281157970428467\n",
            "Epoch 15: [40000/50000] Loss: 1.6663709878921509\n",
            "Test result on epoch 15: Avg loss is 0.0016332185983657837, Accuracy: 40.15999984741211%\n",
            "Epoch 16: [0/50000] Loss: 1.6128517389297485\n",
            "Epoch 16: [20000/50000] Loss: 1.5291939973831177\n",
            "Epoch 16: [40000/50000] Loss: 1.5549732446670532\n",
            "Test result on epoch 16: Avg loss is 0.0016002184867858888, Accuracy: 41.82999801635742%\n",
            "Epoch 17: [0/50000] Loss: 1.6441154479980469\n",
            "Epoch 17: [20000/50000] Loss: 1.6603370904922485\n",
            "Epoch 17: [40000/50000] Loss: 1.627366542816162\n",
            "Test result on epoch 17: Avg loss is 0.0015790157437324524, Accuracy: 42.45000076293945%\n",
            "Epoch 18: [0/50000] Loss: 1.5746406316757202\n",
            "Epoch 18: [20000/50000] Loss: 1.5558629035949707\n",
            "Epoch 18: [40000/50000] Loss: 1.5434396266937256\n",
            "Test result on epoch 18: Avg loss is 0.0015607335209846496, Accuracy: 43.099998474121094%\n",
            "Epoch 19: [0/50000] Loss: 1.6570571660995483\n",
            "Epoch 19: [20000/50000] Loss: 1.5819575786590576\n",
            "Epoch 19: [40000/50000] Loss: 1.445231318473816\n",
            "Test result on epoch 19: Avg loss is 0.0015309553146362306, Accuracy: 44.13999938964844%\n",
            "Epoch 20: [0/50000] Loss: 1.4508965015411377\n",
            "Epoch 20: [20000/50000] Loss: 1.4303317070007324\n",
            "Epoch 20: [40000/50000] Loss: 1.5372118949890137\n",
            "Test result on epoch 20: Avg loss is 0.0015210424900054932, Accuracy: 44.439998626708984%\n",
            "Epoch 21: [0/50000] Loss: 1.5614029169082642\n",
            "Epoch 21: [20000/50000] Loss: 1.6358331441879272\n",
            "Epoch 21: [40000/50000] Loss: 1.4649689197540283\n",
            "Test result on epoch 21: Avg loss is 0.001493869125843048, Accuracy: 45.57999801635742%\n",
            "Epoch 22: [0/50000] Loss: 1.4149603843688965\n",
            "Epoch 22: [20000/50000] Loss: 1.5221619606018066\n",
            "Epoch 22: [40000/50000] Loss: 1.4428656101226807\n",
            "Test result on epoch 22: Avg loss is 0.001513526201248169, Accuracy: 44.75%\n",
            "Epoch 23: [0/50000] Loss: 1.4301390647888184\n",
            "Epoch 23: [20000/50000] Loss: 1.4445395469665527\n",
            "Epoch 23: [40000/50000] Loss: 1.4552280902862549\n",
            "Test result on epoch 23: Avg loss is 0.0014705152273178101, Accuracy: 46.36000061035156%\n",
            "Epoch 24: [0/50000] Loss: 1.4010939598083496\n",
            "Epoch 24: [20000/50000] Loss: 1.4172625541687012\n",
            "Epoch 24: [40000/50000] Loss: 1.4211879968643188\n",
            "Test result on epoch 24: Avg loss is 0.001444872236251831, Accuracy: 47.439998626708984%\n",
            "Epoch 25: [0/50000] Loss: 1.4404886960983276\n",
            "Epoch 25: [20000/50000] Loss: 1.448594570159912\n",
            "Epoch 25: [40000/50000] Loss: 1.3376264572143555\n",
            "Test result on epoch 25: Avg loss is 0.0014175853848457337, Accuracy: 48.459999084472656%\n",
            "Epoch 26: [0/50000] Loss: 1.477463960647583\n",
            "Epoch 26: [20000/50000] Loss: 1.533555507659912\n",
            "Epoch 26: [40000/50000] Loss: 1.4113270044326782\n",
            "Test result on epoch 26: Avg loss is 0.001394254493713379, Accuracy: 49.29999923706055%\n",
            "Epoch 27: [0/50000] Loss: 1.2691887617111206\n",
            "Epoch 27: [20000/50000] Loss: 1.4188119173049927\n",
            "Epoch 27: [40000/50000] Loss: 1.2862701416015625\n",
            "Test result on epoch 27: Avg loss is 0.001384475564956665, Accuracy: 49.939998626708984%\n",
            "Epoch 28: [0/50000] Loss: 1.3309569358825684\n",
            "Epoch 28: [20000/50000] Loss: 1.3369413614273071\n",
            "Epoch 28: [40000/50000] Loss: 1.4568355083465576\n",
            "Test result on epoch 28: Avg loss is 0.0013871540427207946, Accuracy: 49.97999954223633%\n",
            "Epoch 29: [0/50000] Loss: 1.3142586946487427\n",
            "Epoch 29: [20000/50000] Loss: 1.317265510559082\n",
            "Epoch 29: [40000/50000] Loss: 1.3440510034561157\n",
            "Test result on epoch 29: Avg loss is 0.0013518675923347473, Accuracy: 51.14999771118164%\n",
            "Epoch 30: [0/50000] Loss: 1.250881552696228\n",
            "Epoch 30: [20000/50000] Loss: 1.3225942850112915\n",
            "Epoch 30: [40000/50000] Loss: 1.2808231115341187\n",
            "Test result on epoch 30: Avg loss is 0.001345080590248108, Accuracy: 50.939998626708984%\n",
            "Epoch 31: [0/50000] Loss: 1.3792524337768555\n",
            "Epoch 31: [20000/50000] Loss: 1.314733624458313\n",
            "Epoch 31: [40000/50000] Loss: 1.289344310760498\n",
            "Test result on epoch 31: Avg loss is 0.001327303695678711, Accuracy: 52.07999801635742%\n",
            "Epoch 32: [0/50000] Loss: 1.2842512130737305\n",
            "Epoch 32: [20000/50000] Loss: 1.322525978088379\n",
            "Epoch 32: [40000/50000] Loss: 1.20917546749115\n",
            "Test result on epoch 32: Avg loss is 0.0013010480642318726, Accuracy: 53.04999923706055%\n",
            "Epoch 33: [0/50000] Loss: 1.1643925905227661\n",
            "Epoch 33: [20000/50000] Loss: 1.3560800552368164\n",
            "Epoch 33: [40000/50000] Loss: 1.304491400718689\n",
            "Test result on epoch 33: Avg loss is 0.0012931535720825196, Accuracy: 53.23999786376953%\n",
            "Epoch 34: [0/50000] Loss: 1.1974583864212036\n",
            "Epoch 34: [20000/50000] Loss: 1.2872881889343262\n",
            "Epoch 34: [40000/50000] Loss: 1.2388211488723755\n",
            "Test result on epoch 34: Avg loss is 0.0013021200776100158, Accuracy: 52.81999969482422%\n",
            "Epoch 35: [0/50000] Loss: 1.2232288122177124\n",
            "Epoch 35: [20000/50000] Loss: 1.081174373626709\n",
            "Epoch 35: [40000/50000] Loss: 1.2211956977844238\n",
            "Test result on epoch 35: Avg loss is 0.0012757480263710021, Accuracy: 53.98999786376953%\n",
            "Epoch 36: [0/50000] Loss: 1.2837997674942017\n",
            "Epoch 36: [20000/50000] Loss: 1.1990681886672974\n",
            "Epoch 36: [40000/50000] Loss: 1.2105097770690918\n",
            "Test result on epoch 36: Avg loss is 0.0012872813701629638, Accuracy: 53.459999084472656%\n",
            "Epoch 37: [0/50000] Loss: 1.34187912940979\n",
            "Epoch 37: [20000/50000] Loss: 1.3377183675765991\n",
            "Epoch 37: [40000/50000] Loss: 1.205169916152954\n",
            "Test result on epoch 37: Avg loss is 0.0012520135641098022, Accuracy: 55.439998626708984%\n",
            "Epoch 38: [0/50000] Loss: 1.1422970294952393\n",
            "Epoch 38: [20000/50000] Loss: 1.1633174419403076\n",
            "Epoch 38: [40000/50000] Loss: 1.290208339691162\n",
            "Test result on epoch 38: Avg loss is 0.0012394717454910279, Accuracy: 55.77000045776367%\n",
            "Epoch 39: [0/50000] Loss: 1.1382014751434326\n",
            "Epoch 39: [20000/50000] Loss: 1.1908363103866577\n",
            "Epoch 39: [40000/50000] Loss: 1.0874392986297607\n",
            "Test result on epoch 39: Avg loss is 0.0012307419061660767, Accuracy: 55.54999923706055%\n",
            "Epoch 40: [0/50000] Loss: 1.1809172630310059\n",
            "Epoch 40: [20000/50000] Loss: 1.227592945098877\n",
            "Epoch 40: [40000/50000] Loss: 1.2317878007888794\n",
            "Test result on epoch 40: Avg loss is 0.0012257614850997925, Accuracy: 56.47999954223633%\n",
            "Epoch 41: [0/50000] Loss: 1.1438724994659424\n",
            "Epoch 41: [20000/50000] Loss: 1.3386694192886353\n",
            "Epoch 41: [40000/50000] Loss: 1.245334506034851\n",
            "Test result on epoch 41: Avg loss is 0.0012084147810935975, Accuracy: 56.93000030517578%\n",
            "Epoch 42: [0/50000] Loss: 1.1306309700012207\n",
            "Epoch 42: [20000/50000] Loss: 1.2474387884140015\n",
            "Epoch 42: [40000/50000] Loss: 1.088121771812439\n",
            "Test result on epoch 42: Avg loss is 0.0011986667156219483, Accuracy: 57.25%\n",
            "Epoch 43: [0/50000] Loss: 1.2245193719863892\n",
            "Epoch 43: [20000/50000] Loss: 1.1731562614440918\n",
            "Epoch 43: [40000/50000] Loss: 1.1594520807266235\n",
            "Test result on epoch 43: Avg loss is 0.0012272142887115479, Accuracy: 56.04999923706055%\n",
            "Epoch 44: [0/50000] Loss: 1.2473957538604736\n",
            "Epoch 44: [20000/50000] Loss: 1.24858820438385\n",
            "Epoch 44: [40000/50000] Loss: 1.079308032989502\n",
            "Test result on epoch 44: Avg loss is 0.0011866013288497925, Accuracy: 57.63999938964844%\n",
            "Epoch 45: [0/50000] Loss: 1.1675719022750854\n",
            "Epoch 45: [20000/50000] Loss: 1.1064889430999756\n",
            "Epoch 45: [40000/50000] Loss: 1.1287826299667358\n",
            "Test result on epoch 45: Avg loss is 0.001179211127758026, Accuracy: 57.769996643066406%\n",
            "Epoch 46: [0/50000] Loss: 1.1927886009216309\n",
            "Epoch 46: [20000/50000] Loss: 1.2411350011825562\n",
            "Epoch 46: [40000/50000] Loss: 1.0853924751281738\n",
            "Test result on epoch 46: Avg loss is 0.0011661101937294007, Accuracy: 58.459999084472656%\n",
            "Epoch 47: [0/50000] Loss: 1.1543020009994507\n",
            "Epoch 47: [20000/50000] Loss: 1.0347728729248047\n",
            "Epoch 47: [40000/50000] Loss: 1.1270349025726318\n",
            "Test result on epoch 47: Avg loss is 0.001170606303215027, Accuracy: 57.73999786376953%\n",
            "Epoch 48: [0/50000] Loss: 1.0854331254959106\n",
            "Epoch 48: [20000/50000] Loss: 1.1549309492111206\n",
            "Epoch 48: [40000/50000] Loss: 1.2058281898498535\n",
            "Test result on epoch 48: Avg loss is 0.0011614775538444518, Accuracy: 58.65999984741211%\n",
            "Epoch 49: [0/50000] Loss: 1.1965807676315308\n",
            "Epoch 49: [20000/50000] Loss: 1.0257575511932373\n",
            "Epoch 49: [40000/50000] Loss: 1.0839238166809082\n",
            "Test result on epoch 49: Avg loss is 0.0011589038252830506, Accuracy: 58.41999816894531%\n",
            "Epoch 50: [0/50000] Loss: 1.1491239070892334\n",
            "Epoch 50: [20000/50000] Loss: 1.114356517791748\n",
            "Epoch 50: [40000/50000] Loss: 1.0842934846878052\n",
            "Test result on epoch 50: Avg loss is 0.001142524766921997, Accuracy: 59.25%\n"
          ]
        }
      ]
    },
    {
      "cell_type": "markdown",
      "metadata": {
        "id": "hS1mXr9Cl6pM"
      },
      "source": [
        "### Task 3: Plot misclassified test images\n",
        "Plot some misclassified images in your test dataset:\n",
        "\n",
        "*   select three images that are **misclassified** by your neural network\n",
        "*   label each images with true label and predicted label\n",
        "\n"
      ]
    },
    {
      "cell_type": "code",
      "metadata": {
        "id": "xd8vWof8nIHw",
        "colab": {
          "base_uri": "https://localhost:8080/",
          "height": 276
        },
        "outputId": "6db0f570-311b-48fd-de7e-073b32c2b85b"
      },
      "source": [
        "# ----------- <Your code> ---------------\n",
        "_, (images, targets) = next(enumerate(test_loader))\n",
        "output = net(images.to(device))\n",
        "\n",
        "pred = output.data.max(1, keepdim=True)[1].view((-1))\n",
        "index = pred.data!=targets.to(device).data\n",
        "images_wrong  = images[index]\n",
        "targets_wrong = targets[index]\n",
        "pred_wrong  = pred[index]\n",
        "\n",
        "fig, ax = plt.subplots(1,3)\n",
        "fig.set_size_inches(12,4)\n",
        "for i in range(3):\n",
        "  img = images[i] / 2 + 0.5 \n",
        "  ax[i].imshow(img.permute(1, 2, 0))\n",
        "  ax[i].set_title(f'True label: {classes[targets_wrong[i]]}\\n Predicted label: {classes[pred_wrong[i]]} ')\n",
        "\n",
        "fig.show()"
      ],
      "execution_count": null,
      "outputs": [
        {
          "output_type": "display_data",
          "data": {
            "image/png": "[encoded data removed]",
            "text/plain": [
              "<Figure size 864x288 with 3 Axes>"
            ]
          },
          "metadata": {
            "needs_background": "light"
          }
        }
      ]
    },
    {
      "cell_type": "markdown",
      "metadata": {
        "id": "_W3BLdvNQTEZ"
      },
      "source": [
        "Questions (0 points): Are the mis-classified images also misleading to human eyes?"
      ]
    },
    {
      "cell_type": "markdown",
      "metadata": {
        "id": "INN54zXpTcZw"
      },
      "source": [
        "## Exercise 3: Transfer Learning (30 points)"
      ]
    },
    {
      "cell_type": "markdown",
      "metadata": {
        "id": "IgDHswfp0k7m"
      },
      "source": [
        "In practice, people won't train an entire CNN from scratch, because it is relatively rare to have a dataset of sufficient size (or sufficient computational power). Instead, it is common to pretrain a CNN on a very large dataset and then use the CNN either as an initialization or a fixed feature extractor for the task of interest.\n",
        "\n",
        "In this task, you will learn how to use a pretrained CNN for CIFAR-10 classification."
      ]
    },
    {
      "cell_type": "markdown",
      "metadata": {
        "id": "f21CjwoW8ty5"
      },
      "source": [
        "### Task1: Load pretrained model"
      ]
    },
    {
      "cell_type": "markdown",
      "metadata": {
        "id": "VZ-21Pv183TX"
      },
      "source": [
        "`torchvision.models` (https://pytorch.org/vision/stable/models.html) contains definitions of models for addressing different tasks, including: image classification, pixelwise semantic segmentation, object detection, instance segmentation, person keypoint detection and video classification.\n",
        "\n",
        "First, you should load the **pretrained** ResNet-18 that has already been trained on [ImageNet](https://www.image-net.org/) using `torchvision.models`. If you are interested in more details about Resnet-18, read this paper https://arxiv.org/pdf/1512.03385.pdf."
      ]
    },
    {
      "cell_type": "code",
      "metadata": {
        "id": "KaHP0VfAVuDY",
        "colab": {
          "base_uri": "https://localhost:8080/",
          "height": 66,
          "referenced_widgets": [
            "6c6be33f2d1d469e943913224f2d5950",
            "4456ebc812064a2698b2c2320ea22edf",
            "205dc1be0ec94a9cb9f6bb504c4bd783",
            "99f45e990d71467eb646988b69db2117",
            "3b7f82ec599b4f25a7fabd205d1148a1",
            "ed5606530c2c4f29aac854da3eb0d906",
            "3e6e83e697d241d2a1534710b3401a0a",
            "ccf1c5c8814c46f0bee7b3176c032878",
            "80255b481d3545b590ed5bb9faa00d0c",
            "8796f95dffec479489e1436e36056a13",
            "a7d98f2c8e6d4b7bbeff0721f7f74bca"
          ]
        },
        "outputId": "50e7f5cd-0355-4c00-8346-b637bd5f06b7"
      },
      "source": [
        "# ----------- <Your code> ---------------\n",
        "import torchvision.models as models\n",
        "resnet18 = models.resnet18(pretrained=True)\n",
        "# num_ftrs = resnet18.fc.in_features\n",
        "# resnet18.fc = nn.Linear(num_ftrs, 2)\n",
        "resnet18 = resnet18.to(device)"
      ],
      "execution_count": 4,
      "outputs": [
        {
          "output_type": "stream",
          "name": "stderr",
          "text": [
            "Downloading: \"https://download.pytorch.org/models/resnet18-f37072fd.pth\" to /root/.cache/torch/hub/checkpoints/resnet18-f37072fd.pth\n"
          ]
        },
        {
          "output_type": "display_data",
          "data": {
            "application/vnd.jupyter.widget-view+json": {
              "model_id": "6c6be33f2d1d469e943913224f2d5950",
              "version_minor": 0,
              "version_major": 2
            },
            "text/plain": [
              "  0%|          | 0.00/44.7M [00:00<?, ?B/s]"
            ]
          },
          "metadata": {}
        }
      ]
    },
    {
      "cell_type": "markdown",
      "metadata": {
        "id": "MtQkZUZH84q8"
      },
      "source": [
        "### Task2: Create data loaders for CIFAR-10"
      ]
    },
    {
      "cell_type": "markdown",
      "metadata": {
        "id": "GTlRo-CJ4GQD"
      },
      "source": [
        "Then you need to create a dataloader of CIFAR-10. Note that the model you load has been trained on **ImageNet** and it expects inputs as mini-batches of 3-channel RGB images of shape (3 x H x W), where H and W are expected to be **at least** 224. So you need to preprocess the CIFAR-10 data to make sure it has a height and width. See [`torchvision.transforms.Resize`](https://pytorch.org/vision/stable/transforms.html#torchvision.transforms.Resize).\n",
        "You will probably want to add this transform appropriately to the `transform` you created in a previous task.\n"
      ]
    },
    {
      "cell_type": "code",
      "metadata": {
        "id": "lhFys7OQV1Wj",
        "colab": {
          "base_uri": "https://localhost:8080/",
          "height": 101,
          "referenced_widgets": [
            "70c9748df6ec443b9b624193f407d728",
            "6a7d2b6d20f2472abf206389c2cec947",
            "865a2242384645079dc737420888afc1",
            "daf180fe2c6b473faeb76f26f78929c0",
            "b6e8cdf9836549bd8bfd9d260075da0c",
            "32ef074901d646d984f76f1ac9216844",
            "10b8f8f5a6f043e2814c0ec2e017b16a",
            "04259f2a579b42e3b1e337d520208aa3",
            "49928a55be0e4f8d84ec862554bfd394",
            "1ef0ceb324274ade87158170654c4da7",
            "2731675606ea4ab383c88bdd9c6680f7"
          ]
        },
        "outputId": "4ad0c3c5-56b7-4a5c-c82e-aea0498903c7"
      },
      "source": [
        "# ----------- <Your code> ---------------\\\n",
        "from torchvision import transforms, datasets\n",
        "data_transforms = transforms.Compose([\n",
        "        transforms.Resize(224),\n",
        "        transforms.ToTensor(),\n",
        "        transforms.Normalize([0.485, 0.456, 0.406], [0.229, 0.224, 0.225])\n",
        "    ])\n",
        "\n",
        "train_dataset = datasets.CIFAR10('/data', train=True, download=True, transform=data_transforms)\n",
        "test_dataset = datasets.CIFAR10('/data', train=False, download=True, transform=data_transforms)\n",
        "\n",
        "batch_size_train, batch_size_test = 200, 1000\n",
        "\n",
        "train_loader = torch.utils.data.DataLoader(train_dataset, batch_size=batch_size_train, shuffle=True)\n",
        "test_loader = torch.utils.data.DataLoader(test_dataset, batch_size=batch_size_test, shuffle=True)"
      ],
      "execution_count": 5,
      "outputs": [
        {
          "output_type": "stream",
          "name": "stdout",
          "text": [
            "Downloading https://www.cs.toronto.edu/~kriz/cifar-10-python.tar.gz to /data/cifar-10-python.tar.gz\n"
          ]
        },
        {
          "output_type": "display_data",
          "data": {
            "application/vnd.jupyter.widget-view+json": {
              "model_id": "70c9748df6ec443b9b624193f407d728",
              "version_minor": 0,
              "version_major": 2
            },
            "text/plain": [
              "  0%|          | 0/170498071 [00:00<?, ?it/s]"
            ]
          },
          "metadata": {}
        },
        {
          "output_type": "stream",
          "name": "stdout",
          "text": [
            "Extracting /data/cifar-10-python.tar.gz to /data\n",
            "Files already downloaded and verified\n"
          ]
        }
      ]
    },
    {
      "cell_type": "markdown",
      "metadata": {
        "id": "k8nR_aBi9Atb"
      },
      "source": [
        "### Task3: Classify test data on pretrained model"
      ]
    },
    {
      "cell_type": "markdown",
      "metadata": {
        "id": "N8IXXu-J9grR"
      },
      "source": [
        "Use the model you load to classify the **test** CIFAR-10 data and print out the test accuracy.\n",
        "\n",
        "Don't be surprised if the accuracy is bad!"
      ]
    },
    {
      "cell_type": "code",
      "metadata": {
        "id": "JOuCodyJ4FYp",
        "colab": {
          "base_uri": "https://localhost:8080/"
        },
        "outputId": "ba301788-03c7-4060-faa6-09de4d4108dc"
      },
      "source": [
        "# ----------- <Your code> ---------------\n",
        "loss_fn = nn.CrossEntropyLoss()\n",
        "\n",
        "test_losses = []\n",
        "test_counter = []\n",
        "\n",
        "resnet18.eval() # we need to set the mode for our model\n",
        "\n",
        "test_loss = 0\n",
        "correct = 0\n",
        "\n",
        "with torch.no_grad():\n",
        "  for images, targets in test_loader:\n",
        "    output = resnet18(images.to(device))\n",
        "    pred = output.data.max(1, keepdim=True)[1] # we get the estimate of our result by look at the largest class value\n",
        "    correct += pred.eq(targets.to(device).data.view_as(pred)).sum() # sum up the corrected samples\n",
        "    # print(targets.data)\n",
        "test_counter.append(len(train_loader.dataset))\n",
        "\n",
        "print(f'Accuracy: {100.*correct/len(test_loader.dataset)}%')"
      ],
      "execution_count": null,
      "outputs": [
        {
          "output_type": "stream",
          "name": "stdout",
          "text": [
            "Accuracy: 0.0%\n"
          ]
        }
      ]
    },
    {
      "cell_type": "markdown",
      "metadata": {
        "id": "ETLezHR0-ByE"
      },
      "source": [
        "### Task 4: Update model for CIFAR-10"
      ]
    },
    {
      "cell_type": "markdown",
      "metadata": {
        "id": "BbQrsL-U-Faq"
      },
      "source": [
        "Now try to improve the test accuracy. We offer several possible solutions:\n",
        "\n",
        "(1) You can try to directly continue to train the model you load with the CIFAR-10 training data. \n",
        "\n",
        "(2) For efficiency, you can try to freeze part of the parameters of the loaded models. For example, you can first freeze all parameters by\n",
        "\n",
        "```\n",
        "for param in model.parameters():\n",
        "    param.requires_grad = False\n",
        "```\n",
        "and then unfreeze the last few layers by setting `somelayer.requires_grad=True`.\n",
        "\n",
        "You are also welcome to try any other approach you can think of.\n",
        "\n",
        "\n",
        "**Note:** You should print out the test accuracy and to get full credits, the test accuracy should be at least **80%**."
      ]
    },
    {
      "cell_type": "code",
      "metadata": {
        "id": "D2H2oDDyWv8t",
        "colab": {
          "base_uri": "https://localhost:8080/"
        },
        "outputId": "f8bfeb65-8f27-4ab9-811e-4de43f7094ed"
      },
      "source": [
        "# ----------- <Your code> ---------------\n",
        "\n",
        "for param in resnet18.parameters():\n",
        "    param.requires_grad = False\n",
        "\n",
        "# Parameters of newly constructed modules have requires_grad=True by default\n",
        "num_ftrs = resnet18.fc.in_features\n",
        "resnet18.fc = nn.Linear(num_ftrs, 10)\n",
        "\n",
        "resnet18 = resnet18.to(device)\n",
        "\n",
        "import torch.optim as optim\n",
        "optimizer = optim.SGD(resnet18.parameters(), lr=0.001, momentum=0.9)\n",
        "loss_fn = nn.CrossEntropyLoss()\n",
        "train_losses = []\n",
        "train_counter = []\n",
        "test_losses = []\n",
        "test_counter = []\n",
        "max_epoch = 4\n",
        "\n",
        "for epoch in range(1, max_epoch+1):\n",
        "  train(resnet18, epoch)\n",
        "  test(resnet18, epoch)"
      ],
      "execution_count": null,
      "outputs": [
        {
          "output_type": "stream",
          "name": "stderr",
          "text": [
            "/usr/local/lib/python3.7/dist-packages/torch/nn/functional.py:718: UserWarning: Named tensors and all their associated APIs are an experimental feature and subject to change. Please do not use them for anything important until they are released as stable. (Triggered internally at  /pytorch/c10/core/TensorImpl.h:1156.)\n",
            "  return torch.max_pool2d(input, kernel_size, stride, padding, dilation, ceil_mode)\n"
          ]
        },
        {
          "output_type": "stream",
          "name": "stdout",
          "text": [
            "Epoch 1: [0/50000] Loss: 2.6739706993103027\n",
            "Epoch 1: [20000/50000] Loss: 1.2383122444152832\n",
            "Epoch 1: [40000/50000] Loss: 1.012704849243164\n",
            "Test result on epoch 1: Avg loss is 0.0009197867333889007, Accuracy: 73.18000030517578%\n",
            "Epoch 2: [0/50000] Loss: 0.952283501625061\n",
            "Epoch 2: [20000/50000] Loss: 0.8607823252677917\n",
            "Epoch 2: [40000/50000] Loss: 0.7387840151786804\n",
            "Test result on epoch 2: Avg loss is 0.0007618453919887543, Accuracy: 76.2699966430664%\n",
            "Epoch 3: [0/50000] Loss: 0.8258564472198486\n",
            "Epoch 3: [20000/50000] Loss: 0.6808072924613953\n",
            "Epoch 3: [40000/50000] Loss: 0.6592823266983032\n",
            "Test result on epoch 3: Avg loss is 0.000703230893611908, Accuracy: 78.40999603271484%\n",
            "Epoch 4: [0/50000] Loss: 0.7451006174087524\n",
            "Epoch 4: [20000/50000] Loss: 0.7328245043754578\n",
            "Epoch 4: [40000/50000] Loss: 0.7312229671362798\n",
            "Test result on epoch 4: Avg loss is 0.000695399180501254, Accuracy: 80.35412512354512%\n"
          ]
        }
      ]
    }
  ]
}